{
 "cells": [
  {
   "cell_type": "code",
   "execution_count": 1,
   "metadata": {},
   "outputs": [],
   "source": [
    "import configparser\n",
    "import psycopg2\n",
    "import boto3\n",
    "import pandas as pd"
   ]
  },
  {
   "cell_type": "code",
   "execution_count": 4,
   "metadata": {},
   "outputs": [
    {
     "name": "stdout",
     "output_type": "stream",
     "text": [
      "log_data/2018/11/2018-11-01-events.json\n",
      "log_data/2018/11/2018-11-02-events.json\n",
      "log_data/2018/11/2018-11-03-events.json\n",
      "log_data/2018/11/2018-11-04-events.json\n",
      "log_data/2018/11/2018-11-05-events.json\n",
      "log_data/2018/11/2018-11-06-events.json\n",
      "log_data/2018/11/2018-11-07-events.json\n",
      "log_data/2018/11/2018-11-08-events.json\n",
      "log_data/2018/11/2018-11-09-events.json\n",
      "log_data/2018/11/2018-11-10-events.json\n",
      "log_data/2018/11/2018-11-11-events.json\n",
      "log_data/2018/11/2018-11-12-events.json\n",
      "log_data/2018/11/2018-11-13-events.json\n",
      "log_data/2018/11/2018-11-14-events.json\n",
      "log_data/2018/11/2018-11-15-events.json\n",
      "log_data/2018/11/2018-11-16-events.json\n",
      "log_data/2018/11/2018-11-17-events.json\n",
      "log_data/2018/11/2018-11-18-events.json\n",
      "log_data/2018/11/2018-11-19-events.json\n",
      "log_data/2018/11/2018-11-20-events.json\n",
      "log_data/2018/11/2018-11-21-events.json\n",
      "log_data/2018/11/2018-11-22-events.json\n",
      "log_data/2018/11/2018-11-23-events.json\n",
      "log_data/2018/11/2018-11-24-events.json\n",
      "log_data/2018/11/2018-11-25-events.json\n",
      "log_data/2018/11/2018-11-26-events.json\n",
      "log_data/2018/11/2018-11-27-events.json\n",
      "log_data/2018/11/2018-11-28-events.json\n",
      "log_data/2018/11/2018-11-29-events.json\n",
      "log_data/2018/11/2018-11-30-events.json\n"
     ]
    }
   ],
   "source": [
    "config = configparser.ConfigParser()\n",
    "config.read_file(open(\"cluster_config.cfg\", encoding=\"utf-8\"))\n",
    "\n",
    "DWH_ARN = config.get(\"IAM\", \"ARN\").replace('\"', \"\")\n",
    "HOST = config.get(\"CLUSTER\", \"HOST\").replace('\"', \"\")\n",
    "DB_NAME = config.get(\"CLUSTER\", \"DB_NAME\").replace('\"', \"\")\n",
    "DB_USER = config.get(\"CLUSTER\", \"DB_USER\").replace('\"', \"\")\n",
    "DB_PASSWORD = config.get(\"CLUSTER\", \"DB_PASSWORD\").replace('\"', \"\")\n",
    "DB_PORT = config.get(\"CLUSTER\", \"DB_PORT\").replace('\"', \"\")\n",
    "\n",
    "# access acount\n",
    "KEY = config.get(\"AWS\", \"KEY\")\n",
    "SECRET = config.get(\"AWS\", \"SECRET\")\n",
    "\n",
    "session = boto3.Session(aws_access_key_id=KEY,\n",
    "                        aws_secret_access_key=SECRET,\n",
    "                        region_name=\"us-east-1\")\n",
    "\n",
    "s3 = session.resource('s3')\n",
    "\n",
    "data_bucket = s3.Bucket(\"udacity-dend\")\n",
    "\n",
    "for obj in data_bucket.objects.filter(Prefix=\"log_data/2018/\"):\n",
    "   print(obj.key)"
   ]
  },
  {
   "cell_type": "code",
   "execution_count": null,
   "metadata": {},
   "outputs": [],
   "source": []
  },
  {
   "cell_type": "code",
   "execution_count": null,
   "metadata": {},
   "outputs": [],
   "source": []
  },
  {
   "cell_type": "code",
   "execution_count": null,
   "metadata": {},
   "outputs": [],
   "source": []
  },
  {
   "cell_type": "code",
   "execution_count": null,
   "metadata": {},
   "outputs": [],
   "source": []
  },
  {
   "cell_type": "code",
   "execution_count": null,
   "metadata": {},
   "outputs": [],
   "source": []
  },
  {
   "cell_type": "code",
   "execution_count": null,
   "metadata": {},
   "outputs": [],
   "source": []
  },
  {
   "cell_type": "code",
   "execution_count": null,
   "metadata": {},
   "outputs": [
    {
     "ename": "OperationalError",
     "evalue": "could not translate host name \"dwhcluster.cx2rkkkhgmph.us-east-1.redshift.amazonaws.com\" to address: Unknown host\n",
     "output_type": "error",
     "traceback": [
      "\u001b[1;31m---------------------------------------------------------------------------\u001b[0m",
      "\u001b[1;31mOperationalError\u001b[0m                          Traceback (most recent call last)",
      "Cell \u001b[1;32mIn[82], line 1\u001b[0m\n\u001b[1;32m----> 1\u001b[0m conn \u001b[39m=\u001b[39m psycopg2\u001b[39m.\u001b[39;49mconnect(\u001b[39m\"\u001b[39;49m\u001b[39mhost=\u001b[39;49m\u001b[39m{}\u001b[39;49;00m\u001b[39m dbname=\u001b[39;49m\u001b[39m{}\u001b[39;49;00m\u001b[39m user=\u001b[39;49m\u001b[39m{}\u001b[39;49;00m\u001b[39m password=\u001b[39;49m\u001b[39m{}\u001b[39;49;00m\u001b[39m port=\u001b[39;49m\u001b[39m{}\u001b[39;49;00m\u001b[39m\"\u001b[39;49m\n\u001b[0;32m      2\u001b[0m                         \u001b[39m.\u001b[39;49mformat(HOST, DB_NAME, DB_USER, DB_PASSWORD, \u001b[39mint\u001b[39;49m(DB_PORT)))\n\u001b[0;32m      4\u001b[0m cur \u001b[39m=\u001b[39m conn\u001b[39m.\u001b[39mcursor()\n",
      "File \u001b[1;32mc:\\Users\\original\\AppData\\Local\\Programs\\Python\\Python311\\Lib\\site-packages\\psycopg2\\__init__.py:122\u001b[0m, in \u001b[0;36mconnect\u001b[1;34m(dsn, connection_factory, cursor_factory, **kwargs)\u001b[0m\n\u001b[0;32m    119\u001b[0m     kwasync[\u001b[39m'\u001b[39m\u001b[39masync_\u001b[39m\u001b[39m'\u001b[39m] \u001b[39m=\u001b[39m kwargs\u001b[39m.\u001b[39mpop(\u001b[39m'\u001b[39m\u001b[39masync_\u001b[39m\u001b[39m'\u001b[39m)\n\u001b[0;32m    121\u001b[0m dsn \u001b[39m=\u001b[39m _ext\u001b[39m.\u001b[39mmake_dsn(dsn, \u001b[39m*\u001b[39m\u001b[39m*\u001b[39mkwargs)\n\u001b[1;32m--> 122\u001b[0m conn \u001b[39m=\u001b[39m _connect(dsn, connection_factory\u001b[39m=\u001b[39;49mconnection_factory, \u001b[39m*\u001b[39;49m\u001b[39m*\u001b[39;49mkwasync)\n\u001b[0;32m    123\u001b[0m \u001b[39mif\u001b[39;00m cursor_factory \u001b[39mis\u001b[39;00m \u001b[39mnot\u001b[39;00m \u001b[39mNone\u001b[39;00m:\n\u001b[0;32m    124\u001b[0m     conn\u001b[39m.\u001b[39mcursor_factory \u001b[39m=\u001b[39m cursor_factory\n",
      "\u001b[1;31mOperationalError\u001b[0m: could not translate host name \"dwhcluster.cx2rkkkhgmph.us-east-1.redshift.amazonaws.com\" to address: Unknown host\n"
     ]
    }
   ],
   "source": [
    "conn = psycopg2.connect(\"host={} dbname={} user={} password={} port={}\"\n",
    "                        .format(HOST, DB_NAME, DB_USER, DB_PASSWORD, int(DB_PORT)))\n",
    "\n",
    "cur = conn.cursor()"
   ]
  },
  {
   "cell_type": "code",
   "execution_count": null,
   "metadata": {},
   "outputs": [],
   "source": []
  }
 ],
 "metadata": {
  "kernelspec": {
   "display_name": "Python 3",
   "language": "python",
   "name": "python3"
  },
  "language_info": {
   "codemirror_mode": {
    "name": "ipython",
    "version": 3
   },
   "file_extension": ".py",
   "mimetype": "text/x-python",
   "name": "python",
   "nbconvert_exporter": "python",
   "pygments_lexer": "ipython3",
   "version": "3.11.1"
  },
  "orig_nbformat": 4,
  "vscode": {
   "interpreter": {
    "hash": "1fe35887cae5fcd87bf9a4df41b2a8248286415c40f7549404403937e5947391"
   }
  }
 },
 "nbformat": 4,
 "nbformat_minor": 2
}
